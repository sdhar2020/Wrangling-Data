{
  "nbformat": 4,
  "nbformat_minor": 0,
  "metadata": {
    "anaconda-cloud": {},
    "kernelspec": {
      "display_name": "Python 3",
      "language": "python",
      "name": "python3"
    },
    "language_info": {
      "codemirror_mode": {
        "name": "ipython",
        "version": 3
      },
      "file_extension": ".py",
      "mimetype": "text/x-python",
      "name": "python",
      "nbconvert_exporter": "python",
      "pygments_lexer": "ipython3",
      "version": "3.4.4"
    },
    "colab": {
      "name": "Optimizing Dataframes and Processing in Chunks.ipynb",
      "provenance": [],
      "include_colab_link": true
    }
  },
  "cells": [
    {
      "cell_type": "markdown",
      "metadata": {
        "id": "view-in-github",
        "colab_type": "text"
      },
      "source": [
        "<a href=\"https://colab.research.google.com/github/sdhar2020/Wrangling-Data/blob/master/Optimizing_Dataframes_and_Processing_in_Chunks.ipynb\" target=\"_parent\"><img src=\"https://colab.research.google.com/assets/colab-badge.svg\" alt=\"Open In Colab\"/></a>"
      ]
    },
    {
      "cell_type": "markdown",
      "metadata": {
        "id": "eZLe-u7mUf1M",
        "colab_type": "text"
      },
      "source": [
        "# Introduction\n",
        "\n",
        "Processing large datasets can be challenge and require optimizing a dataframe's memory usage. Here data from [Lending Club](https://www.lendingclub.com), a marketplace for personal loans that matches borrowers with investors is used to explore the options.\n",
        "\n",
        "Lending Club’s  massive data set is analyzed by optimizing the way that data is processed to reduce the load on memory, including optimizing the dataframe’s memory footprint and processing the data in chunks.\n",
        "\n",
        "This is data is a csv file with 115 columns and 40.38 MB in size. This data is downloaded from https://data.world/jaypeedevlin/lending-club-loan-data-2007-11"
      ]
    },
    {
      "cell_type": "code",
      "metadata": {
        "id": "Whpd6PyrUf1Q",
        "colab_type": "code",
        "colab": {
          "base_uri": "https://localhost:8080/",
          "height": 34
        },
        "outputId": "2c03f73d-9e49-49f9-ca0c-ec09dad462c5"
      },
      "source": [
        "import pandas as pd\n",
        "import numpy as np\n",
        "pd.options.display.max_columns = 99\n",
        "datalink= 'https://query.data.world/s/vr4eky46ig6wa6ofatg3ucmw67422p'\n",
        "\n",
        "first_five = pd.read_csv(datalink, nrows=5,skiprows=1)\n",
        "first_five.shape"
      ],
      "execution_count": 70,
      "outputs": [
        {
          "output_type": "execute_result",
          "data": {
            "text/plain": [
              "(5, 115)"
            ]
          },
          "metadata": {
            "tags": []
          },
          "execution_count": 70
        }
      ]
    },
    {
      "cell_type": "code",
      "metadata": {
        "id": "7q8J8GAUgUse",
        "colab_type": "code",
        "colab": {
          "base_uri": "https://localhost:8080/",
          "height": 34
        },
        "outputId": "ae369a3b-4a13-4026-b0ba-c802adeb1208"
      },
      "source": [
        "sum(first_five.dtypes== 'object')"
      ],
      "execution_count": 71,
      "outputs": [
        {
          "output_type": "execute_result",
          "data": {
            "text/plain": [
              "24"
            ]
          },
          "metadata": {
            "tags": []
          },
          "execution_count": 71
        }
      ]
    },
    {
      "cell_type": "code",
      "metadata": {
        "id": "iAvoGavbUf1e",
        "colab_type": "code",
        "colab": {
          "base_uri": "https://localhost:8080/",
          "height": 34
        },
        "outputId": "99335573-6d49-4d32-c01c-72f42e0137f3"
      },
      "source": [
        "thousand_chunk = pd.read_csv(datalink, nrows=1000, skiprows=1)\n",
        "thousand_chunk.memory_usage(deep=True).sum()/(1024*1024)"
      ],
      "execution_count": 72,
      "outputs": [
        {
          "output_type": "execute_result",
          "data": {
            "text/plain": [
              "2.370248794555664"
            ]
          },
          "metadata": {
            "tags": []
          },
          "execution_count": 72
        }
      ]
    },
    {
      "cell_type": "markdown",
      "metadata": {
        "id": "s147S55mUf1q",
        "colab_type": "text"
      },
      "source": [
        "### Let's try tripling to 3000 rows and calculate the memory footprint for each chunk."
      ]
    },
    {
      "cell_type": "code",
      "metadata": {
        "id": "m76Kwe-ZUf1t",
        "colab_type": "code",
        "colab": {
          "base_uri": "https://localhost:8080/",
          "height": 278
        },
        "outputId": "5d12eca3-006a-428a-b3f8-8c6e40787ee3"
      },
      "source": [
        "chunk_iter = pd.read_csv(datalink, chunksize=3000, skiprows=1)\n",
        "for chunk in chunk_iter:\n",
        "    print(chunk.memory_usage(deep=True).sum()/(1024*1024))"
      ],
      "execution_count": 73,
      "outputs": [
        {
          "output_type": "stream",
          "text": [
            "7.086687088012695\n",
            "7.083115577697754\n",
            "7.247514724731445\n",
            "7.249743461608887\n",
            "7.211755752563477\n",
            "7.134672164916992\n",
            "7.478672981262207\n",
            "7.422393798828125\n",
            "7.35462760925293\n",
            "7.566001892089844\n",
            "7.657600402832031\n",
            "7.783655166625977\n",
            "7.756294250488281\n",
            "7.939258575439453\n",
            "1.4041814804077148\n"
          ],
          "name": "stdout"
        }
      ]
    },
    {
      "cell_type": "markdown",
      "metadata": {
        "id": "x1inGo-CUf12",
        "colab_type": "text"
      },
      "source": [
        "## How many rows in the data set?"
      ]
    },
    {
      "cell_type": "code",
      "metadata": {
        "id": "yWi8i18zUf14",
        "colab_type": "code",
        "colab": {
          "base_uri": "https://localhost:8080/",
          "height": 34
        },
        "outputId": "958428fa-1d10-4ad0-e529-a4333202a4a0"
      },
      "source": [
        "chunk_iter = pd.read_csv(datalink, chunksize=3000, skiprows=1)\n",
        "total_rows = 0\n",
        "for chunk in chunk_iter:\n",
        "    total_rows += len(chunk)\n",
        "print(total_rows)"
      ],
      "execution_count": 74,
      "outputs": [
        {
          "output_type": "stream",
          "text": [
            "42538\n"
          ],
          "name": "stdout"
        }
      ]
    },
    {
      "cell_type": "markdown",
      "metadata": {
        "id": "EGXItCkYUf2A",
        "colab_type": "text"
      },
      "source": [
        "# Exploring the Data in Chunks\n",
        "\n",
        "## How many columns have a numeric type? How many have a string type?"
      ]
    },
    {
      "cell_type": "code",
      "metadata": {
        "scrolled": true,
        "id": "K6bT3il-Uf2D",
        "colab_type": "code",
        "colab": {
          "base_uri": "https://localhost:8080/",
          "height": 52
        },
        "outputId": "669acd89-4396-4dc1-8227-4bb178c47aee"
      },
      "source": [
        "# Numeric columns\n",
        "loans_chunks = pd.read_csv(datalink,chunksize=3000, skiprows=1)\n",
        "\n",
        "numeric = []\n",
        "string = []\n",
        "for lc in loans_chunks:\n",
        "    nums = lc.select_dtypes(include=[np.number]).shape[1]\n",
        "    numeric.append(nums)\n",
        "    strs = lc.select_dtypes(include=['object']).shape[1]\n",
        "    string.append(strs)\n",
        "\n",
        "print(numeric)\n",
        "print(string)"
      ],
      "execution_count": 75,
      "outputs": [
        {
          "output_type": "stream",
          "text": [
            "[91, 91, 91, 91, 91, 92, 91, 92, 92, 92, 92, 92, 92, 90, 90]\n",
            "[24, 24, 24, 24, 24, 23, 24, 23, 23, 23, 23, 23, 23, 25, 25]\n"
          ],
          "name": "stdout"
        }
      ]
    },
    {
      "cell_type": "code",
      "metadata": {
        "id": "ZKsMKIBdUf2L",
        "colab_type": "code",
        "colab": {
          "base_uri": "https://localhost:8080/",
          "height": 330
        },
        "outputId": "7b287923-707e-42b6-d5d9-2106a9facff7"
      },
      "source": [
        "# Are string columns consistent across chunks?\n",
        "obj_cols = []\n",
        "chunk_iter = pd.read_csv(datalink, chunksize=3000, skiprows=1)\n",
        "\n",
        "for chunk in chunk_iter:\n",
        "    chunk_obj_cols = chunk.select_dtypes(include=['object']).columns.tolist()\n",
        "    # print(len(chunk.columns))\n",
        "    if len(obj_cols) > 0:\n",
        "        is_same = obj_cols == chunk_obj_cols\n",
        "        if not is_same:\n",
        "            print(\"overall obj cols Gap:\", set(chunk_obj_cols).difference(set(obj_cols)), \"\\n\")\n",
        "            # print(\"chunk obj cols:\", chunk_obj_cols, \"\\n\")    \n",
        "    else:\n",
        "        obj_cols = chunk_obj_cols"
      ],
      "execution_count": 76,
      "outputs": [
        {
          "output_type": "stream",
          "text": [
            "overall obj cols Gap: set() \n",
            "\n",
            "overall obj cols Gap: set() \n",
            "\n",
            "overall obj cols Gap: set() \n",
            "\n",
            "overall obj cols Gap: set() \n",
            "\n",
            "overall obj cols Gap: set() \n",
            "\n",
            "overall obj cols Gap: set() \n",
            "\n",
            "overall obj cols Gap: set() \n",
            "\n",
            "overall obj cols Gap: {'id'} \n",
            "\n",
            "overall obj cols Gap: {'id'} \n",
            "\n"
          ],
          "name": "stdout"
        }
      ]
    },
    {
      "cell_type": "markdown",
      "metadata": {
        "collapsed": true,
        "id": "5ugjpdX-Uf2U",
        "colab_type": "text"
      },
      "source": [
        "##Observations:\n",
        " - By default -- 91 numeric columns and 24 string columns.\n",
        " - It seems like one column in particular (the `id` column) is being cast to int64 in the last 2 chunks but not in the earlier chunks. Since the `id` column won't be useful for analysis, visualization, or predictive modelling let's ignore this column.\n",
        "\n",
        "## Unique values are there in each string column \n",
        "## String columns with 50% or less unique values"
      ]
    },
    {
      "cell_type": "code",
      "metadata": {
        "scrolled": true,
        "id": "h4mpntvwUf2V",
        "colab_type": "code",
        "colab": {
          "base_uri": "https://localhost:8080/",
          "height": 208
        },
        "outputId": "a29f1b9d-0d7d-4bb5-817e-fb0bede76223"
      },
      "source": [
        "\n",
        "loans_chunks = pd.read_csv(datalink,chunksize=3000, skiprows=1)\n",
        "\n",
        "uniques = {}\n",
        "for lc in loans_chunks:\n",
        "    strings_only = lc.select_dtypes(include=['object'])\n",
        "    cols = strings_only.columns\n",
        "    for c in cols:\n",
        "        val_counts = strings_only[c].value_counts()\n",
        "        if c in uniques:\n",
        "            uniques[c].append(val_counts)\n",
        "        else:\n",
        "            uniques[c] = [val_counts]\n",
        "\n",
        "uniques_combined = {}\n",
        "unique_stats = {\n",
        "    'column_name': [],\n",
        "    'total_values': [],\n",
        "    'unique_values': [],\n",
        "}\n",
        "for col in uniques:\n",
        "    u_concat = pd.concat(uniques[col])\n",
        "    u_group = u_concat.groupby(u_concat.index).sum()\n",
        "    uniques_combined[col] = u_group\n",
        "    if u_group.shape[0] < 50:\n",
        "        print(col, u_group.shape[0])"
      ],
      "execution_count": 77,
      "outputs": [
        {
          "output_type": "stream",
          "text": [
            "term 2\n",
            "grade 7\n",
            "sub_grade 35\n",
            "emp_length 11\n",
            "home_ownership 5\n",
            "verification_status 3\n",
            "loan_status 9\n",
            "pymnt_plan 2\n",
            "purpose 14\n",
            "initial_list_status 1\n",
            "application_type 1\n"
          ],
          "name": "stdout"
        }
      ]
    },
    {
      "cell_type": "markdown",
      "metadata": {
        "id": "EPinltMtUf2b",
        "colab_type": "text"
      },
      "source": [
        "## Float columns have no missing values \n",
        "### Candidates for conversion to the integer type"
      ]
    },
    {
      "cell_type": "code",
      "metadata": {
        "id": "pU9JsJG_Uf2c",
        "colab_type": "code",
        "colab": {
          "base_uri": "https://localhost:8080/",
          "height": 225
        },
        "outputId": "e15e1712-5031-4955-ea55-aad050dc278a"
      },
      "source": [
        "loans_chunks = pd.read_csv(datalink,chunksize=3000, skiprows=1)\n",
        "# missing dataframe for missing values\n",
        "missing = []\n",
        "for lc in loans_chunks:\n",
        "    floats = lc.select_dtypes(include=['float'])\n",
        "    # Append missing value count series, columns as index\n",
        "    missing.append(floats.apply(pd.isnull).sum())\n",
        "# Concat all missing value chunk series\n",
        "combined_missing = pd.concat(missing)\n",
        "# group by and sort by index\n",
        "combined_missing.groupby(combined_missing.index).sum().sort_values()"
      ],
      "execution_count": 78,
      "outputs": [
        {
          "output_type": "execute_result",
          "data": {
            "text/plain": [
              "loan_amnt                        3\n",
              "installment                      3\n",
              "last_pymnt_amnt                  3\n",
              "member_id                        3\n",
              "revol_bal                        3\n",
              "                             ...  \n",
              "mths_since_recent_inq        42538\n",
              "mths_since_recent_bc_dlq     42538\n",
              "mths_since_recent_bc         42538\n",
              "num_actv_rev_tl              42538\n",
              "verification_status_joint    42538\n",
              "Length: 91, dtype: int64"
            ]
          },
          "metadata": {
            "tags": []
          },
          "execution_count": 78
        }
      ]
    },
    {
      "cell_type": "markdown",
      "metadata": {
        "id": "p7E-WVKeUf2k",
        "colab_type": "text"
      },
      "source": [
        "## Calculate the total memory usage across all of the chunks."
      ]
    },
    {
      "cell_type": "code",
      "metadata": {
        "id": "vGBK-EsQUf2l",
        "colab_type": "code",
        "colab": {
          "base_uri": "https://localhost:8080/",
          "height": 34
        },
        "outputId": "eaf2ae00-8ba2-4e3f-f4eb-a9f871f23b69"
      },
      "source": [
        "loans_chunks = pd.read_csv(datalink,chunksize=3000, skiprows=1)\n",
        "\n",
        "mem_usage = []\n",
        "\n",
        "for lc in loans_chunks:\n",
        "    mem_usage.append(lc.memory_usage(deep=True).sum() / 1024 ** 2)\n",
        "\n",
        "sum(mem_usage)"
      ],
      "execution_count": 79,
      "outputs": [
        {
          "output_type": "execute_result",
          "data": {
            "text/plain": [
              "105.37617492675781"
            ]
          },
          "metadata": {
            "tags": []
          },
          "execution_count": 79
        }
      ]
    },
    {
      "cell_type": "markdown",
      "metadata": {
        "id": "AJNl6S-vUf2s",
        "colab_type": "text"
      },
      "source": [
        "## Optimizing String Columns\n",
        "\n",
        "Determine which string columns can be converted to a numeric type once cleaned. Focusing on columns that would actually be useful for analysis and modelling."
      ]
    },
    {
      "cell_type": "code",
      "metadata": {
        "id": "VLO0AL_zUf2t",
        "colab_type": "code",
        "colab": {
          "base_uri": "https://localhost:8080/",
          "height": 434
        },
        "outputId": "7f7ce4e7-9ba5-4048-a402-d4768bc367ce"
      },
      "source": [
        "obj_cols"
      ],
      "execution_count": 80,
      "outputs": [
        {
          "output_type": "execute_result",
          "data": {
            "text/plain": [
              "['term',\n",
              " 'int_rate',\n",
              " 'grade',\n",
              " 'sub_grade',\n",
              " 'emp_title',\n",
              " 'emp_length',\n",
              " 'home_ownership',\n",
              " 'verification_status',\n",
              " 'issue_d',\n",
              " 'loan_status',\n",
              " 'pymnt_plan',\n",
              " 'url',\n",
              " 'desc',\n",
              " 'purpose',\n",
              " 'title',\n",
              " 'zip_code',\n",
              " 'addr_state',\n",
              " 'earliest_cr_line',\n",
              " 'revol_util',\n",
              " 'initial_list_status',\n",
              " 'last_pymnt_d',\n",
              " 'next_pymnt_d',\n",
              " 'last_credit_pull_d',\n",
              " 'application_type']"
            ]
          },
          "metadata": {
            "tags": []
          },
          "execution_count": 80
        }
      ]
    },
    {
      "cell_type": "code",
      "metadata": {
        "id": "2dQPWPWIUf21",
        "colab_type": "code",
        "colab": {}
      },
      "source": [
        "useful_obj_cols = ['term', 'sub_grade', 'emp_title', 'home_ownership', 'verification_status', 'issue_d', 'purpose', 'earliest_cr_line', 'revol_util', 'last_pymnt_d', 'last_credit_pull_d']"
      ],
      "execution_count": 81,
      "outputs": []
    },
    {
      "cell_type": "code",
      "metadata": {
        "id": "uKo_-LpfUf28",
        "colab_type": "code",
        "colab": {}
      },
      "source": [
        "## Create dictionary (key: column, value: list of Series objects representing each chunk's value counts)\n",
        "chunk_iter = pd.read_csv(datalink, chunksize=3000, skiprows=1)\n",
        "str_cols_vc = {}\n",
        "for chunk in chunk_iter:\n",
        "    str_cols = chunk.select_dtypes(include=['object'])\n",
        "    for col in str_cols.columns:\n",
        "        current_col_vc = str_cols[col].value_counts()\n",
        "        if col in str_cols_vc:\n",
        "            str_cols_vc[col].append(current_col_vc)\n",
        "        else:\n",
        "            str_cols_vc[col] = [current_col_vc]"
      ],
      "execution_count": 82,
      "outputs": []
    },
    {
      "cell_type": "code",
      "metadata": {
        "id": "CUB8spQjUf3C",
        "colab_type": "code",
        "colab": {}
      },
      "source": [
        "## Combine the value counts.\n",
        "combined_vcs = {}\n",
        "\n",
        "for col in str_cols_vc:\n",
        "    combined_vc = pd.concat(str_cols_vc[col])\n",
        "    final_vc = combined_vc.groupby(combined_vc.index).sum()\n",
        "    combined_vcs[col] = final_vc"
      ],
      "execution_count": 83,
      "outputs": []
    },
    {
      "cell_type": "code",
      "metadata": {
        "id": "Qj-yJ44BUf3K",
        "colab_type": "code",
        "colab": {
          "base_uri": "https://localhost:8080/",
          "height": 1000
        },
        "outputId": "639f152a-0716-45a3-91bb-08a10f7f7cb3"
      },
      "source": [
        "for col in useful_obj_cols:\n",
        "    print(col)\n",
        "    print(combined_vcs[col])\n",
        "    print(\"-----------\")"
      ],
      "execution_count": 84,
      "outputs": [
        {
          "output_type": "stream",
          "text": [
            "term\n",
            " 36 months    31534\n",
            " 60 months    11001\n",
            "Name: term, dtype: int64\n",
            "-----------\n",
            "sub_grade\n",
            "A1    1142\n",
            "A2    1520\n",
            "A3    1823\n",
            "A4    2905\n",
            "A5    2793\n",
            "B1    1882\n",
            "B2    2113\n",
            "B3    2997\n",
            "B4    2590\n",
            "B5    2807\n",
            "C1    2264\n",
            "C2    2157\n",
            "C3    1658\n",
            "C4    1370\n",
            "C5    1291\n",
            "D1    1053\n",
            "D2    1485\n",
            "D3    1322\n",
            "D4    1140\n",
            "D5    1016\n",
            "E1     884\n",
            "E2     791\n",
            "E3     668\n",
            "E4     552\n",
            "E5     499\n",
            "F1     392\n",
            "F2     308\n",
            "F3     236\n",
            "F4     211\n",
            "F5     154\n",
            "G1     141\n",
            "G2     107\n",
            "G3      79\n",
            "G4      99\n",
            "G5      86\n",
            "Name: sub_grade, dtype: int64\n",
            "-----------\n",
            "emp_title\n",
            "  old palm inc                       1\n",
            " Brocade Communications              1\n",
            " CenturyLink                         1\n",
            " Department of Homeland Security     1\n",
            " Down To Earth Distributors, Inc.    1\n",
            "                                    ..\n",
            "zashko inc.                          1\n",
            "zeno office solutions                1\n",
            "zion lutheran school                 1\n",
            "zoll medical corp                    1\n",
            "zozaya officiating                   1\n",
            "Name: emp_title, Length: 30658, dtype: int64\n",
            "-----------\n",
            "home_ownership\n",
            "MORTGAGE    18959\n",
            "NONE            8\n",
            "OTHER         136\n",
            "OWN          3251\n",
            "RENT        20181\n",
            "Name: home_ownership, dtype: int64\n",
            "-----------\n",
            "verification_status\n",
            "Not Verified       18758\n",
            "Source Verified    10306\n",
            "Verified           13471\n",
            "Name: verification_status, dtype: int64\n",
            "-----------\n",
            "issue_d\n",
            "Apr-2008     259\n",
            "Apr-2009     333\n",
            "Apr-2010     912\n",
            "Apr-2011    1563\n",
            "Aug-2007      74\n",
            "Aug-2008     100\n",
            "Aug-2009     446\n",
            "Aug-2010    1175\n",
            "Aug-2011    1934\n",
            "Dec-2007     172\n",
            "Dec-2008     253\n",
            "Dec-2009     658\n",
            "Dec-2010    1335\n",
            "Dec-2011    2267\n",
            "Feb-2008     306\n",
            "Feb-2009     302\n",
            "Feb-2010     682\n",
            "Feb-2011    1298\n",
            "Jan-2008     305\n",
            "Jan-2009     269\n",
            "Jan-2010     662\n",
            "Jan-2011    1380\n",
            "Jul-2007      63\n",
            "Jul-2008     141\n",
            "Jul-2009     411\n",
            "Jul-2010    1204\n",
            "Jul-2011    1875\n",
            "Jun-2007      24\n",
            "Jun-2008     124\n",
            "Jun-2009     406\n",
            "Jun-2010    1105\n",
            "Jun-2011    1835\n",
            "Mar-2008     402\n",
            "Mar-2009     324\n",
            "Mar-2010     828\n",
            "Mar-2011    1448\n",
            "May-2008     115\n",
            "May-2009     359\n",
            "May-2010     989\n",
            "May-2011    1704\n",
            "Nov-2007     112\n",
            "Nov-2008     209\n",
            "Nov-2009     662\n",
            "Nov-2010    1224\n",
            "Nov-2011    2232\n",
            "Oct-2007     105\n",
            "Oct-2008     122\n",
            "Oct-2009     604\n",
            "Oct-2010    1232\n",
            "Oct-2011    2118\n",
            "Sep-2007      53\n",
            "Sep-2008      57\n",
            "Sep-2009     507\n",
            "Sep-2010    1189\n",
            "Sep-2011    2067\n",
            "Name: issue_d, dtype: int64\n",
            "-----------\n",
            "purpose\n",
            "car                    1615\n",
            "credit_card            5477\n",
            "debt_consolidation    19776\n",
            "educational             422\n",
            "home_improvement       3199\n",
            "house                   426\n",
            "major_purchase         2311\n",
            "medical                 753\n",
            "moving                  629\n",
            "other                  4425\n",
            "renewable_energy        106\n",
            "small_business         1992\n",
            "vacation                400\n",
            "wedding                1004\n",
            "Name: purpose, dtype: int64\n",
            "-----------\n",
            "earliest_cr_line\n",
            "Apr-1964      3\n",
            "Apr-1966      1\n",
            "Apr-1967      4\n",
            "Apr-1968      1\n",
            "Apr-1969      1\n",
            "           ... \n",
            "Sep-2004    221\n",
            "Sep-2005    162\n",
            "Sep-2006    150\n",
            "Sep-2007     63\n",
            "Sep-2008      8\n",
            "Name: earliest_cr_line, Length: 530, dtype: int64\n",
            "-----------\n",
            "revol_util\n",
            "0%       1070\n",
            "0.01%       1\n",
            "0.03%       1\n",
            "0.04%       1\n",
            "0.05%       1\n",
            "         ... \n",
            "99.5%      24\n",
            "99.6%      27\n",
            "99.7%      32\n",
            "99.8%      25\n",
            "99.9%      29\n",
            "Name: revol_util, Length: 1119, dtype: int64\n",
            "-----------\n",
            "last_pymnt_d\n",
            "Apr-2008     23\n",
            "Apr-2009     72\n",
            "Apr-2010    145\n",
            "Apr-2011    519\n",
            "Apr-2012    781\n",
            "           ... \n",
            "Sep-2012    802\n",
            "Sep-2013    712\n",
            "Sep-2014    694\n",
            "Sep-2015    211\n",
            "Sep-2016    674\n",
            "Name: last_pymnt_d, Length: 106, dtype: int64\n",
            "-----------\n",
            "last_credit_pull_d\n",
            "Apr-2009       23\n",
            "Apr-2010       54\n",
            "Apr-2011      146\n",
            "Apr-2012      276\n",
            "Apr-2013      355\n",
            "            ...  \n",
            "Sep-2012      335\n",
            "Sep-2013      325\n",
            "Sep-2014      491\n",
            "Sep-2015      437\n",
            "Sep-2016    16232\n",
            "Name: last_credit_pull_d, Length: 111, dtype: int64\n",
            "-----------\n"
          ],
          "name": "stdout"
        }
      ]
    },
    {
      "cell_type": "markdown",
      "metadata": {
        "id": "hhyBh8WeUf3R",
        "colab_type": "text"
      },
      "source": [
        "### Convert to category"
      ]
    },
    {
      "cell_type": "code",
      "metadata": {
        "id": "b1q248GZUf3R",
        "colab_type": "code",
        "colab": {}
      },
      "source": [
        "convert_col_dtypes = {\n",
        "    \"sub_grade\": \"category\", \"home_ownership\": \"category\", \n",
        "    \"verification_status\": \"category\", \"purpose\": \"category\"\n",
        "}"
      ],
      "execution_count": 85,
      "outputs": []
    },
    {
      "cell_type": "markdown",
      "metadata": {
        "id": "zPUAmRYeUf3W",
        "colab_type": "text"
      },
      "source": [
        "- Convert `term` and `revol_util` to numerical by data cleaning.\n",
        "- Convert `issue_d`, `earliest_cr_line`, `last_pymnt_d`, and `last_credit_pull_d` to datetime."
      ]
    },
    {
      "cell_type": "code",
      "metadata": {
        "scrolled": true,
        "id": "-i62iglIUf3Y",
        "colab_type": "code",
        "colab": {
          "base_uri": "https://localhost:8080/",
          "height": 583
        },
        "outputId": "6e436151-fe8f-4139-d31a-0b1e850f42a2"
      },
      "source": [
        "chunk[useful_obj_cols]"
      ],
      "execution_count": 86,
      "outputs": [
        {
          "output_type": "execute_result",
          "data": {
            "text/html": [
              "<div>\n",
              "<style scoped>\n",
              "    .dataframe tbody tr th:only-of-type {\n",
              "        vertical-align: middle;\n",
              "    }\n",
              "\n",
              "    .dataframe tbody tr th {\n",
              "        vertical-align: top;\n",
              "    }\n",
              "\n",
              "    .dataframe thead th {\n",
              "        text-align: right;\n",
              "    }\n",
              "</style>\n",
              "<table border=\"1\" class=\"dataframe\">\n",
              "  <thead>\n",
              "    <tr style=\"text-align: right;\">\n",
              "      <th></th>\n",
              "      <th>term</th>\n",
              "      <th>sub_grade</th>\n",
              "      <th>emp_title</th>\n",
              "      <th>home_ownership</th>\n",
              "      <th>verification_status</th>\n",
              "      <th>issue_d</th>\n",
              "      <th>purpose</th>\n",
              "      <th>earliest_cr_line</th>\n",
              "      <th>revol_util</th>\n",
              "      <th>last_pymnt_d</th>\n",
              "      <th>last_credit_pull_d</th>\n",
              "    </tr>\n",
              "  </thead>\n",
              "  <tbody>\n",
              "    <tr>\n",
              "      <th>42000</th>\n",
              "      <td>36 months</td>\n",
              "      <td>C2</td>\n",
              "      <td>Best Buy</td>\n",
              "      <td>RENT</td>\n",
              "      <td>Not Verified</td>\n",
              "      <td>Feb-2008</td>\n",
              "      <td>debt_consolidation</td>\n",
              "      <td>Jul-2000</td>\n",
              "      <td>100.7%</td>\n",
              "      <td>Feb-2011</td>\n",
              "      <td>Sep-2016</td>\n",
              "    </tr>\n",
              "    <tr>\n",
              "      <th>42001</th>\n",
              "      <td>36 months</td>\n",
              "      <td>G2</td>\n",
              "      <td>CVS PHARMACY</td>\n",
              "      <td>OWN</td>\n",
              "      <td>Not Verified</td>\n",
              "      <td>Feb-2008</td>\n",
              "      <td>debt_consolidation</td>\n",
              "      <td>Mar-1989</td>\n",
              "      <td>51.9%</td>\n",
              "      <td>Nov-2008</td>\n",
              "      <td>Sep-2016</td>\n",
              "    </tr>\n",
              "    <tr>\n",
              "      <th>42002</th>\n",
              "      <td>36 months</td>\n",
              "      <td>E4</td>\n",
              "      <td>General Motors</td>\n",
              "      <td>RENT</td>\n",
              "      <td>Not Verified</td>\n",
              "      <td>Feb-2008</td>\n",
              "      <td>debt_consolidation</td>\n",
              "      <td>Dec-1998</td>\n",
              "      <td>80.7%</td>\n",
              "      <td>Feb-2011</td>\n",
              "      <td>Sep-2016</td>\n",
              "    </tr>\n",
              "    <tr>\n",
              "      <th>42003</th>\n",
              "      <td>36 months</td>\n",
              "      <td>G4</td>\n",
              "      <td>usa medical center</td>\n",
              "      <td>RENT</td>\n",
              "      <td>Not Verified</td>\n",
              "      <td>Feb-2008</td>\n",
              "      <td>debt_consolidation</td>\n",
              "      <td>Jul-1995</td>\n",
              "      <td>57.2%</td>\n",
              "      <td>Feb-2011</td>\n",
              "      <td>Jun-2011</td>\n",
              "    </tr>\n",
              "    <tr>\n",
              "      <th>42004</th>\n",
              "      <td>36 months</td>\n",
              "      <td>B3</td>\n",
              "      <td>InvestSource Inc</td>\n",
              "      <td>RENT</td>\n",
              "      <td>Not Verified</td>\n",
              "      <td>Feb-2008</td>\n",
              "      <td>debt_consolidation</td>\n",
              "      <td>Sep-2005</td>\n",
              "      <td>74%</td>\n",
              "      <td>Mar-2010</td>\n",
              "      <td>Sep-2016</td>\n",
              "    </tr>\n",
              "    <tr>\n",
              "      <th>...</th>\n",
              "      <td>...</td>\n",
              "      <td>...</td>\n",
              "      <td>...</td>\n",
              "      <td>...</td>\n",
              "      <td>...</td>\n",
              "      <td>...</td>\n",
              "      <td>...</td>\n",
              "      <td>...</td>\n",
              "      <td>...</td>\n",
              "      <td>...</td>\n",
              "      <td>...</td>\n",
              "    </tr>\n",
              "    <tr>\n",
              "      <th>42533</th>\n",
              "      <td>36 months</td>\n",
              "      <td>B3</td>\n",
              "      <td>NaN</td>\n",
              "      <td>RENT</td>\n",
              "      <td>Not Verified</td>\n",
              "      <td>Jun-2007</td>\n",
              "      <td>other</td>\n",
              "      <td>NaN</td>\n",
              "      <td>NaN</td>\n",
              "      <td>Jun-2010</td>\n",
              "      <td>May-2007</td>\n",
              "    </tr>\n",
              "    <tr>\n",
              "      <th>42534</th>\n",
              "      <td>36 months</td>\n",
              "      <td>A5</td>\n",
              "      <td>NaN</td>\n",
              "      <td>NONE</td>\n",
              "      <td>Not Verified</td>\n",
              "      <td>Jun-2007</td>\n",
              "      <td>other</td>\n",
              "      <td>NaN</td>\n",
              "      <td>NaN</td>\n",
              "      <td>Jun-2010</td>\n",
              "      <td>Aug-2007</td>\n",
              "    </tr>\n",
              "    <tr>\n",
              "      <th>42535</th>\n",
              "      <td>36 months</td>\n",
              "      <td>A3</td>\n",
              "      <td>Homemaker</td>\n",
              "      <td>MORTGAGE</td>\n",
              "      <td>Not Verified</td>\n",
              "      <td>Jun-2007</td>\n",
              "      <td>other</td>\n",
              "      <td>NaN</td>\n",
              "      <td>NaN</td>\n",
              "      <td>Jun-2010</td>\n",
              "      <td>Feb-2015</td>\n",
              "    </tr>\n",
              "    <tr>\n",
              "      <th>42536</th>\n",
              "      <td>NaN</td>\n",
              "      <td>NaN</td>\n",
              "      <td>NaN</td>\n",
              "      <td>NaN</td>\n",
              "      <td>NaN</td>\n",
              "      <td>NaN</td>\n",
              "      <td>NaN</td>\n",
              "      <td>NaN</td>\n",
              "      <td>NaN</td>\n",
              "      <td>NaN</td>\n",
              "      <td>NaN</td>\n",
              "    </tr>\n",
              "    <tr>\n",
              "      <th>42537</th>\n",
              "      <td>NaN</td>\n",
              "      <td>NaN</td>\n",
              "      <td>NaN</td>\n",
              "      <td>NaN</td>\n",
              "      <td>NaN</td>\n",
              "      <td>NaN</td>\n",
              "      <td>NaN</td>\n",
              "      <td>NaN</td>\n",
              "      <td>NaN</td>\n",
              "      <td>NaN</td>\n",
              "      <td>NaN</td>\n",
              "    </tr>\n",
              "  </tbody>\n",
              "</table>\n",
              "<p>538 rows × 11 columns</p>\n",
              "</div>"
            ],
            "text/plain": [
              "             term sub_grade           emp_title home_ownership  \\\n",
              "42000   36 months        C2            Best Buy           RENT   \n",
              "42001   36 months        G2        CVS PHARMACY            OWN   \n",
              "42002   36 months        E4      General Motors           RENT   \n",
              "42003   36 months        G4  usa medical center           RENT   \n",
              "42004   36 months        B3    InvestSource Inc           RENT   \n",
              "...           ...       ...                 ...            ...   \n",
              "42533   36 months        B3                 NaN           RENT   \n",
              "42534   36 months        A5                 NaN           NONE   \n",
              "42535   36 months        A3           Homemaker       MORTGAGE   \n",
              "42536         NaN       NaN                 NaN            NaN   \n",
              "42537         NaN       NaN                 NaN            NaN   \n",
              "\n",
              "      verification_status   issue_d             purpose earliest_cr_line  \\\n",
              "42000        Not Verified  Feb-2008  debt_consolidation         Jul-2000   \n",
              "42001        Not Verified  Feb-2008  debt_consolidation         Mar-1989   \n",
              "42002        Not Verified  Feb-2008  debt_consolidation         Dec-1998   \n",
              "42003        Not Verified  Feb-2008  debt_consolidation         Jul-1995   \n",
              "42004        Not Verified  Feb-2008  debt_consolidation         Sep-2005   \n",
              "...                   ...       ...                 ...              ...   \n",
              "42533        Not Verified  Jun-2007               other              NaN   \n",
              "42534        Not Verified  Jun-2007               other              NaN   \n",
              "42535        Not Verified  Jun-2007               other              NaN   \n",
              "42536                 NaN       NaN                 NaN              NaN   \n",
              "42537                 NaN       NaN                 NaN              NaN   \n",
              "\n",
              "      revol_util last_pymnt_d last_credit_pull_d  \n",
              "42000     100.7%     Feb-2011           Sep-2016  \n",
              "42001      51.9%     Nov-2008           Sep-2016  \n",
              "42002      80.7%     Feb-2011           Sep-2016  \n",
              "42003      57.2%     Feb-2011           Jun-2011  \n",
              "42004        74%     Mar-2010           Sep-2016  \n",
              "...          ...          ...                ...  \n",
              "42533        NaN     Jun-2010           May-2007  \n",
              "42534        NaN     Jun-2010           Aug-2007  \n",
              "42535        NaN     Jun-2010           Feb-2015  \n",
              "42536        NaN          NaN                NaN  \n",
              "42537        NaN          NaN                NaN  \n",
              "\n",
              "[538 rows x 11 columns]"
            ]
          },
          "metadata": {
            "tags": []
          },
          "execution_count": 86
        }
      ]
    },
    {
      "cell_type": "code",
      "metadata": {
        "id": "OlV5xNiEUf3c",
        "colab_type": "code",
        "colab": {
          "base_uri": "https://localhost:8080/",
          "height": 225
        },
        "outputId": "48e1b1a5-504e-4f37-8fb4-5bfa4c0d3917"
      },
      "source": [
        "chunk_iter = pd.read_csv(datalink, chunksize=3000, \\\n",
        "                         dtype=convert_col_dtypes, parse_dates=[\"issue_d\", \"earliest_cr_line\", \"last_pymnt_d\", \"last_credit_pull_d\"], skiprows=1)\n",
        "\n",
        "for chunk in chunk_iter:\n",
        "    term_cleaned = chunk['term'].str.lstrip(\" \").str.rstrip(\" months\")\n",
        "    revol_cleaned = chunk['revol_util'].str.rstrip(\"%\")\n",
        "    chunk['term'] = pd.to_numeric(term_cleaned)\n",
        "    chunk['revol_util'] = pd.to_numeric(revol_cleaned)\n",
        "    \n",
        "chunk.dtypes"
      ],
      "execution_count": 87,
      "outputs": [
        {
          "output_type": "execute_result",
          "data": {
            "text/plain": [
              "id                             object\n",
              "member_id                     float64\n",
              "loan_amnt                     float64\n",
              "funded_amnt                   float64\n",
              "funded_amnt_inv               float64\n",
              "                               ...   \n",
              "tax_liens                     float64\n",
              "tot_hi_cred_lim               float64\n",
              "total_bal_ex_mort             float64\n",
              "total_bc_limit                float64\n",
              "total_il_high_credit_limit    float64\n",
              "Length: 115, dtype: object"
            ]
          },
          "metadata": {
            "tags": []
          },
          "execution_count": 87
        }
      ]
    },
    {
      "cell_type": "code",
      "metadata": {
        "id": "oPvkGVwnUf3i",
        "colab_type": "code",
        "colab": {
          "base_uri": "https://localhost:8080/",
          "height": 1000
        },
        "outputId": "b69cae24-a78d-43b3-f5b4-3b805225f213"
      },
      "source": [
        "chunk_iter = pd.read_csv(datalink, chunksize=3000, dtype=convert_col_dtypes,\\\n",
        "                         parse_dates=[\"issue_d\", \"earliest_cr_line\", \"last_pymnt_d\", \"last_credit_pull_d\"], skiprows=1)\n",
        "mv_counts = {}\n",
        "for chunk in chunk_iter:\n",
        "    term_cleaned = chunk['term'].str.lstrip(\" \").str.rstrip(\" months\")\n",
        "    revol_cleaned = chunk['revol_util'].str.rstrip(\"%\")\n",
        "    chunk['term'] = pd.to_numeric(term_cleaned)\n",
        "    chunk['revol_util'] = pd.to_numeric(revol_cleaned)\n",
        "    float_cols = chunk.select_dtypes(include=['float'])\n",
        "    for col in float_cols.columns:\n",
        "        missing_values = len(chunk) - chunk[col].count()\n",
        "        if col in mv_counts:\n",
        "            mv_counts[col] = mv_counts[col] + missing_values\n",
        "        else:\n",
        "            mv_counts[col] = missing_values\n",
        "mv_counts"
      ],
      "execution_count": 88,
      "outputs": [
        {
          "output_type": "execute_result",
          "data": {
            "text/plain": [
              "{'acc_now_delinq': 32,\n",
              " 'acc_open_past_24mths': 42538,\n",
              " 'all_util': 42538,\n",
              " 'annual_inc': 7,\n",
              " 'annual_inc_joint': 42538,\n",
              " 'avg_cur_bal': 42538,\n",
              " 'bc_open_to_buy': 42538,\n",
              " 'bc_util': 42538,\n",
              " 'chargeoff_within_12_mths': 148,\n",
              " 'collection_recovery_fee': 3,\n",
              " 'collections_12_mths_ex_med': 148,\n",
              " 'delinq_2yrs': 32,\n",
              " 'delinq_amnt': 32,\n",
              " 'dti': 3,\n",
              " 'dti_joint': 42538,\n",
              " 'fico_range_high': 3,\n",
              " 'fico_range_low': 3,\n",
              " 'funded_amnt': 3,\n",
              " 'funded_amnt_inv': 3,\n",
              " 'il_util': 42538,\n",
              " 'inq_fi': 42538,\n",
              " 'inq_last_12m': 42538,\n",
              " 'inq_last_6mths': 32,\n",
              " 'installment': 3,\n",
              " 'last_fico_range_high': 3,\n",
              " 'last_fico_range_low': 3,\n",
              " 'last_pymnt_amnt': 3,\n",
              " 'loan_amnt': 3,\n",
              " 'max_bal_bc': 42538,\n",
              " 'member_id': 3,\n",
              " 'mo_sin_old_il_acct': 42538,\n",
              " 'mo_sin_old_rev_tl_op': 42538,\n",
              " 'mo_sin_rcnt_rev_tl_op': 42538,\n",
              " 'mo_sin_rcnt_tl': 42538,\n",
              " 'mort_acc': 42538,\n",
              " 'mths_since_last_delinq': 26929,\n",
              " 'mths_since_last_major_derog': 42538,\n",
              " 'mths_since_last_record': 38887,\n",
              " 'mths_since_rcnt_il': 42538,\n",
              " 'mths_since_recent_bc': 42538,\n",
              " 'mths_since_recent_bc_dlq': 42538,\n",
              " 'mths_since_recent_inq': 42538,\n",
              " 'mths_since_recent_revol_delinq': 42538,\n",
              " 'next_pymnt_d': 21000,\n",
              " 'num_accts_ever_120_pd': 42538,\n",
              " 'num_actv_bc_tl': 42538,\n",
              " 'num_actv_rev_tl': 42538,\n",
              " 'num_bc_sats': 42538,\n",
              " 'num_bc_tl': 42538,\n",
              " 'num_il_tl': 42538,\n",
              " 'num_op_rev_tl': 42538,\n",
              " 'num_rev_accts': 42538,\n",
              " 'num_rev_tl_bal_gt_0': 42538,\n",
              " 'num_sats': 42538,\n",
              " 'num_tl_120dpd_2m': 42538,\n",
              " 'num_tl_30dpd': 42538,\n",
              " 'num_tl_90g_dpd_24m': 42538,\n",
              " 'num_tl_op_past_12m': 42538,\n",
              " 'open_acc': 32,\n",
              " 'open_acc_6m': 42538,\n",
              " 'open_il_12m': 42538,\n",
              " 'open_il_24m': 42538,\n",
              " 'open_il_6m': 42538,\n",
              " 'open_rv_12m': 42538,\n",
              " 'open_rv_24m': 42538,\n",
              " 'out_prncp': 3,\n",
              " 'out_prncp_inv': 3,\n",
              " 'pct_tl_nvr_dlq': 42538,\n",
              " 'percent_bc_gt_75': 42538,\n",
              " 'policy_code': 3,\n",
              " 'pub_rec': 32,\n",
              " 'pub_rec_bankruptcies': 1368,\n",
              " 'recoveries': 3,\n",
              " 'revol_bal': 3,\n",
              " 'revol_util': 93,\n",
              " 'tax_liens': 108,\n",
              " 'term': 3,\n",
              " 'tot_coll_amt': 42538,\n",
              " 'tot_cur_bal': 42538,\n",
              " 'tot_hi_cred_lim': 42538,\n",
              " 'total_acc': 32,\n",
              " 'total_bal_ex_mort': 42538,\n",
              " 'total_bal_il': 42538,\n",
              " 'total_bc_limit': 42538,\n",
              " 'total_cu_tl': 42538,\n",
              " 'total_il_high_credit_limit': 42538,\n",
              " 'total_pymnt': 3,\n",
              " 'total_pymnt_inv': 3,\n",
              " 'total_rec_int': 3,\n",
              " 'total_rec_late_fee': 3,\n",
              " 'total_rec_prncp': 3,\n",
              " 'total_rev_hi_lim': 42538,\n",
              " 'verification_status_joint': 42538}"
            ]
          },
          "metadata": {
            "tags": []
          },
          "execution_count": 88
        }
      ]
    },
    {
      "cell_type": "code",
      "metadata": {
        "id": "deok3R2rUf3n",
        "colab_type": "code",
        "colab": {
          "base_uri": "https://localhost:8080/",
          "height": 1000
        },
        "outputId": "d24d0ec7-15c4-4e23-bbc6-42e039ee62b5"
      },
      "source": [
        "chunk_iter = pd.read_csv(datalink, chunksize=3000, dtype=convert_col_dtypes, \\\n",
        "                         parse_dates=[\"issue_d\", \"earliest_cr_line\", \"last_pymnt_d\", \"last_credit_pull_d\"], skiprows=1)\n",
        "mv_counts = {}\n",
        "for chunk in chunk_iter:\n",
        "    term_cleaned = chunk['term'].str.lstrip(\" \").str.rstrip(\" months\")\n",
        "    revol_cleaned = chunk['revol_util'].str.rstrip(\"%\")\n",
        "    chunk['term'] = pd.to_numeric(term_cleaned)\n",
        "    chunk['revol_util'] = pd.to_numeric(revol_cleaned)\n",
        "    chunk = chunk.dropna(how='all')\n",
        "    float_cols = chunk.select_dtypes(include=['float'])\n",
        "    for col in float_cols.columns:\n",
        "        missing_values = len(chunk) - chunk[col].count()\n",
        "        if col in mv_counts:\n",
        "            mv_counts[col] = mv_counts[col] + missing_values\n",
        "        else:\n",
        "            mv_counts[col] = missing_values\n",
        "mv_counts"
      ],
      "execution_count": 89,
      "outputs": [
        {
          "output_type": "execute_result",
          "data": {
            "text/plain": [
              "{'acc_now_delinq': 32,\n",
              " 'acc_open_past_24mths': 42538,\n",
              " 'all_util': 42538,\n",
              " 'annual_inc': 7,\n",
              " 'annual_inc_joint': 42538,\n",
              " 'avg_cur_bal': 42538,\n",
              " 'bc_open_to_buy': 42538,\n",
              " 'bc_util': 42538,\n",
              " 'chargeoff_within_12_mths': 148,\n",
              " 'collection_recovery_fee': 3,\n",
              " 'collections_12_mths_ex_med': 148,\n",
              " 'delinq_2yrs': 32,\n",
              " 'delinq_amnt': 32,\n",
              " 'dti': 3,\n",
              " 'dti_joint': 42538,\n",
              " 'fico_range_high': 3,\n",
              " 'fico_range_low': 3,\n",
              " 'funded_amnt': 3,\n",
              " 'funded_amnt_inv': 3,\n",
              " 'il_util': 42538,\n",
              " 'inq_fi': 42538,\n",
              " 'inq_last_12m': 42538,\n",
              " 'inq_last_6mths': 32,\n",
              " 'installment': 3,\n",
              " 'last_fico_range_high': 3,\n",
              " 'last_fico_range_low': 3,\n",
              " 'last_pymnt_amnt': 3,\n",
              " 'loan_amnt': 3,\n",
              " 'max_bal_bc': 42538,\n",
              " 'member_id': 3,\n",
              " 'mo_sin_old_il_acct': 42538,\n",
              " 'mo_sin_old_rev_tl_op': 42538,\n",
              " 'mo_sin_rcnt_rev_tl_op': 42538,\n",
              " 'mo_sin_rcnt_tl': 42538,\n",
              " 'mort_acc': 42538,\n",
              " 'mths_since_last_delinq': 26929,\n",
              " 'mths_since_last_major_derog': 42538,\n",
              " 'mths_since_last_record': 38887,\n",
              " 'mths_since_rcnt_il': 42538,\n",
              " 'mths_since_recent_bc': 42538,\n",
              " 'mths_since_recent_bc_dlq': 42538,\n",
              " 'mths_since_recent_inq': 42538,\n",
              " 'mths_since_recent_revol_delinq': 42538,\n",
              " 'next_pymnt_d': 21000,\n",
              " 'num_accts_ever_120_pd': 42538,\n",
              " 'num_actv_bc_tl': 42538,\n",
              " 'num_actv_rev_tl': 42538,\n",
              " 'num_bc_sats': 42538,\n",
              " 'num_bc_tl': 42538,\n",
              " 'num_il_tl': 42538,\n",
              " 'num_op_rev_tl': 42538,\n",
              " 'num_rev_accts': 42538,\n",
              " 'num_rev_tl_bal_gt_0': 42538,\n",
              " 'num_sats': 42538,\n",
              " 'num_tl_120dpd_2m': 42538,\n",
              " 'num_tl_30dpd': 42538,\n",
              " 'num_tl_90g_dpd_24m': 42538,\n",
              " 'num_tl_op_past_12m': 42538,\n",
              " 'open_acc': 32,\n",
              " 'open_acc_6m': 42538,\n",
              " 'open_il_12m': 42538,\n",
              " 'open_il_24m': 42538,\n",
              " 'open_il_6m': 42538,\n",
              " 'open_rv_12m': 42538,\n",
              " 'open_rv_24m': 42538,\n",
              " 'out_prncp': 3,\n",
              " 'out_prncp_inv': 3,\n",
              " 'pct_tl_nvr_dlq': 42538,\n",
              " 'percent_bc_gt_75': 42538,\n",
              " 'policy_code': 3,\n",
              " 'pub_rec': 32,\n",
              " 'pub_rec_bankruptcies': 1368,\n",
              " 'recoveries': 3,\n",
              " 'revol_bal': 3,\n",
              " 'revol_util': 93,\n",
              " 'tax_liens': 108,\n",
              " 'term': 3,\n",
              " 'tot_coll_amt': 42538,\n",
              " 'tot_cur_bal': 42538,\n",
              " 'tot_hi_cred_lim': 42538,\n",
              " 'total_acc': 32,\n",
              " 'total_bal_ex_mort': 42538,\n",
              " 'total_bal_il': 42538,\n",
              " 'total_bc_limit': 42538,\n",
              " 'total_cu_tl': 42538,\n",
              " 'total_il_high_credit_limit': 42538,\n",
              " 'total_pymnt': 3,\n",
              " 'total_pymnt_inv': 3,\n",
              " 'total_rec_int': 3,\n",
              " 'total_rec_late_fee': 3,\n",
              " 'total_rec_prncp': 3,\n",
              " 'total_rev_hi_lim': 42538,\n",
              " 'verification_status_joint': 42538}"
            ]
          },
          "metadata": {
            "tags": []
          },
          "execution_count": 89
        }
      ]
    }
  ]
}